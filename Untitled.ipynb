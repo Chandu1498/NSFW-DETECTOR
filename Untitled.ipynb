{
 "cells": [
  {
   "cell_type": "code",
   "execution_count": 1,
   "metadata": {},
   "outputs": [],
   "source": [
    "#-*-coding:utf-8-*-\n",
    "\n",
    "import os\n",
    "import sys\n",
    "\n",
    "import numpy as np\n",
    "from PIL import Image\n",
    "import tensorflow as tf\n",
    "\n"
   ]
  },
  {
   "cell_type": "code",
   "execution_count": 4,
   "metadata": {},
   "outputs": [],
   "source": [
    "\n",
    "#_MODEL_DIR = os.path.join(os.path.abspath(os.path.dirname(__file__)), 'data/models/1547856517')\n",
    "\n",
    "_IMAGE_SIZE = 64\n",
    "_BATCH_SIZE = 128\n",
    "\n",
    "_LABEL_MAP = {0:'drawings', 1:'hentai', 2:'neutral', 3:'porn', 4:'sexy'}\n",
    "\n",
    "def standardize(img):\n",
    "    mean = np.mean(img)\n",
    "    std = np.std(img)\n",
    "    img = (img - mean) / std\n",
    "    return img\n",
    "\n",
    "def load_image( infilename ) :\n",
    "    img = Image.open( infilename )\n",
    "    img = img.resize((_IMAGE_SIZE, _IMAGE_SIZE))\n",
    "    img.load()\n",
    "    data = np.asarray( img, dtype=np.float32 )\n",
    "    data = standardize(data)\n",
    "    return data\n",
    "\n",
    "def predict(image_path):\n",
    "    with tf.Session() as sess:\n",
    "        graph = tf.get_default_graph();\n",
    "        tf.saved_model.loader.load(sess, [tf.saved_model.tag_constants.SERVING], _MODEL_DIR)\n",
    "        inputs = graph.get_tensor_by_name(\"input_tensor:0\")\n",
    "        probabilities_op = graph.get_tensor_by_name('softmax_tensor:0')\n",
    "        class_index_op = graph.get_tensor_by_name('ArgMax:0')\n",
    "\n",
    "        image_data = load_image(image_path)\n",
    "        probabilities, class_index = sess.run([probabilities_op, class_index_op],\n",
    "                                              feed_dict={inputs: [image_data] * _BATCH_SIZE})\n",
    "\n",
    "        probabilities_dict = {_LABEL_MAP.get(i): l for i, l in enumerate(probabilities[0])}\n",
    "        pre_label = _LABEL_MAP.get(class_index[0])\n",
    "        result = {\"class\": pre_label, \"probability\": probabilities_dict}\n",
    "        return result\n"
   ]
  },
  {
   "cell_type": "code",
   "execution_count": 3,
   "metadata": {},
   "outputs": [
    {
     "name": "stdout",
     "output_type": "stream",
     "text": [
      "\n"
     ]
    },
    {
     "ename": "NameError",
     "evalue": "name 'predict' is not defined",
     "output_type": "error",
     "traceback": [
      "\u001b[1;31m---------------------------------------------------------------------------\u001b[0m",
      "\u001b[1;31mNameError\u001b[0m                                 Traceback (most recent call last)",
      "\u001b[1;32m<ipython-input-3-3520d51e8340>\u001b[0m in \u001b[0;36m<module>\u001b[1;34m\u001b[0m\n\u001b[0;32m      7\u001b[0m     \u001b[0mimage_path\u001b[0m \u001b[1;33m=\u001b[0m \u001b[1;34m'test.jpg'\u001b[0m \u001b[1;31m#argv[1]\u001b[0m\u001b[1;33m\u001b[0m\u001b[1;33m\u001b[0m\u001b[0m\n\u001b[0;32m      8\u001b[0m     \u001b[0mprint\u001b[0m\u001b[1;33m(\u001b[0m\u001b[1;33m)\u001b[0m\u001b[1;33m\u001b[0m\u001b[1;33m\u001b[0m\u001b[0m\n\u001b[1;32m----> 9\u001b[1;33m     \u001b[0mres\u001b[0m \u001b[1;33m=\u001b[0m \u001b[0mpredict\u001b[0m\u001b[1;33m(\u001b[0m\u001b[0mimage_path\u001b[0m\u001b[1;33m)\u001b[0m\u001b[1;33m\u001b[0m\u001b[1;33m\u001b[0m\u001b[0m\n\u001b[0m\u001b[0;32m     10\u001b[0m     \u001b[0mprint\u001b[0m\u001b[1;33m(\u001b[0m\u001b[0mres\u001b[0m\u001b[1;33m)\u001b[0m\u001b[1;33m\u001b[0m\u001b[1;33m\u001b[0m\u001b[0m\n\u001b[0;32m     11\u001b[0m \u001b[1;33m\u001b[0m\u001b[0m\n",
      "\u001b[1;31mNameError\u001b[0m: name 'predict' is not defined"
     ]
    }
   ],
   "source": [
    "\n",
    "\n",
    "if __name__ == '__main__':\n",
    "    argv = sys.argv\n",
    "    if(len(argv) < 2):\n",
    "        print(\"usage: python nsfw_predict <image_path>\")\n",
    "    image_path = 'test.jpg' #argv[1]\n",
    "    print()\n",
    "    res = predict(image_path)\n",
    "    print(res)\n",
    "\n",
    "\n",
    "import warnings\n",
    "warnings.filterwarnings('ignore')\n",
    "##\n",
    "##\n",
    "##import keras\n",
    "##\n",
    "##from keras.models import Sequential,model_from_json\n",
    "##from keras.layers import Dense\n",
    "##from keras.optimizers import RMSprop\n",
    "##\n",
    "##from keras.layers import Input, Lambda\n",
    "##from keras.models import Model\n",
    "##\n",
    "### serialize model to JSON\n",
    "##model_json = model.to_json()\n",
    "##\n",
    "### Write the file name of the model\n",
    "##\n",
    "##with open(\"model.json\", \"w\") as json_file:\n",
    "##    json_file.write(model_json)\n",
    "##    \n",
    "### serialize weights to HDF5\n",
    "### Write the file name of the weights\n",
    "##\n",
    "##model.save_weights(\"model.h5\")\n",
    "##print(\"Saved model to disk\")\n",
    "\n",
    "\n",
    "from keras.models import load_model\n",
    "\n",
    "model.save('my_model.h5')\n"
   ]
  },
  {
   "cell_type": "code",
   "execution_count": null,
   "metadata": {},
   "outputs": [],
   "source": []
  }
 ],
 "metadata": {
  "kernelspec": {
   "display_name": "Python 3",
   "language": "python",
   "name": "python3"
  },
  "language_info": {
   "codemirror_mode": {
    "name": "ipython",
    "version": 3
   },
   "file_extension": ".py",
   "mimetype": "text/x-python",
   "name": "python",
   "nbconvert_exporter": "python",
   "pygments_lexer": "ipython3",
   "version": "3.6.8"
  }
 },
 "nbformat": 4,
 "nbformat_minor": 2
}
